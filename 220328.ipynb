{
  "nbformat": 4,
  "nbformat_minor": 0,
  "metadata": {
    "colab": {
      "name": "requests_gradio.ipynb",
      "provenance": [],
      "include_colab_link": true
    },
    "kernelspec": {
      "name": "python3",
      "display_name": "Python 3"
    },
    "language_info": {
      "name": "python"
    }
  },
  "cells": [
    {
      "cell_type": "markdown",
      "metadata": {
        "id": "view-in-github",
        "colab_type": "text"
      },
      "source": [
        "<a href=\"https://colab.research.google.com/github/a3797/class2022Spring/blob/main/220328.ipynb\" target=\"_parent\"><img src=\"https://colab.research.google.com/assets/colab-badge.svg\" alt=\"Open In Colab\"/></a>"
      ]
    },
    {
      "cell_type": "code",
      "source": [
        "!pip install gradio\n",
        "import gradio as gr\n",
        "import requests\n",
        "import pandas as pd"
      ],
      "metadata": {
        "id": "8eZHGJhmqd9a"
      },
      "execution_count": null,
      "outputs": []
    },
    {
      "cell_type": "code",
      "source": [
        "URL = ('http://apis.data.go.kr/B500001/dam/sluicePresentCondition/mntlist?damcode=2022510&stdt=2018-10-01&eddt=2018-10-01&numOfRows=10&pageNo=1&_type=json&serviceKey=NMGw4muV6MbntwL%2FwHZBwdmyvlANa9xsxYojjj7ky2ZGoLWA7mY4AGQOf0TO8Sa5i99spSVV1mdlrddI8woUkA%3D%3D')\n",
        "response = requests.get(URL)"
      ],
      "metadata": {
        "id": "lHHEwqpyJF7r"
      },
      "execution_count": 2,
      "outputs": []
    },
    {
      "cell_type": "code",
      "source": [
        "response"
      ],
      "metadata": {
        "id": "U6LqMZcbU5UD",
        "outputId": "eae0e4e3-802e-4212-b617-3b1c95212803",
        "colab": {
          "base_uri": "https://localhost:8080/"
        }
      },
      "execution_count": 3,
      "outputs": [
        {
          "output_type": "execute_result",
          "data": {
            "text/plain": [
              "<Response [200]>"
            ]
          },
          "metadata": {},
          "execution_count": 3
        }
      ]
    },
    {
      "cell_type": "markdown",
      "source": [
        "#### http://jsonviewer.stack.hu/ (copy json here to view json)"
      ],
      "metadata": {
        "id": "faIENRyFfnY1"
      }
    },
    {
      "cell_type": "code",
      "source": [
        "r = response.json()\n",
        "r"
      ],
      "metadata": {
        "id": "JcLKwg0foR9p",
        "outputId": "d7a38363-3863-4666-d0c9-61b1eb276687",
        "colab": {
          "base_uri": "https://localhost:8080/"
        }
      },
      "execution_count": 4,
      "outputs": [
        {
          "output_type": "execute_result",
          "data": {
            "text/plain": [
              "{'response': {'body': {'items': {'item': [{'inflowqy': 365.322,\n",
              "      'lowlevel': 0.75,\n",
              "      'obsrdtmnt': '10-01 00시 10분',\n",
              "      'rf': '0.000',\n",
              "      'rsvwtqy': 296.836,\n",
              "      'rsvwtrt': 96.6,\n",
              "      'totdcwtrqy': 108.717},\n",
              "     {'inflowqy': 98.372,\n",
              "      'lowlevel': 0.74,\n",
              "      'obsrdtmnt': '10-01 00시 20분',\n",
              "      'rf': '0.000',\n",
              "      'rsvwtqy': 296.377,\n",
              "      'rsvwtrt': 96.5,\n",
              "      'totdcwtrqy': 107.903},\n",
              "     {'inflowqy': 363.366,\n",
              "      'lowlevel': 0.74,\n",
              "      'obsrdtmnt': '10-01 00시 30분',\n",
              "      'rf': '0.000',\n",
              "      'rsvwtqy': 296.377,\n",
              "      'rsvwtrt': 96.5,\n",
              "      'totdcwtrqy': 109.145},\n",
              "     {'inflowqy': 108.239,\n",
              "      'lowlevel': 0.75,\n",
              "      'obsrdtmnt': '10-01 00시 40분',\n",
              "      'rf': '0.000',\n",
              "      'rsvwtqy': 296.836,\n",
              "      'rsvwtrt': 96.6,\n",
              "      'totdcwtrqy': 107.671},\n",
              "     {'inflowqy': 108.726,\n",
              "      'lowlevel': 0.74,\n",
              "      'obsrdtmnt': '10-01 00시 50분',\n",
              "      'rf': '0.000',\n",
              "      'rsvwtqy': 296.377,\n",
              "      'rsvwtrt': 96.5,\n",
              "      'totdcwtrqy': 109.361},\n",
              "     {'inflowqy': 108.711,\n",
              "      'lowlevel': 0.74,\n",
              "      'obsrdtmnt': '10-01 01시 00분',\n",
              "      'rf': '0.000',\n",
              "      'rsvwtqy': 296.377,\n",
              "      'rsvwtrt': 96.5,\n",
              "      'totdcwtrqy': '109.100'},\n",
              "     {'inflowqy': 109.313,\n",
              "      'lowlevel': 0.75,\n",
              "      'obsrdtmnt': '10-01 01시 10분',\n",
              "      'rf': '0.000',\n",
              "      'rsvwtqy': 296.836,\n",
              "      'rsvwtrt': 96.6,\n",
              "      'totdcwtrqy': 109.478},\n",
              "     {'inflowqy': 109.262,\n",
              "      'lowlevel': 0.74,\n",
              "      'obsrdtmnt': '10-01 01시 20분',\n",
              "      'rf': '0.000',\n",
              "      'rsvwtqy': 296.377,\n",
              "      'rsvwtrt': 96.5,\n",
              "      'totdcwtrqy': '109.210'},\n",
              "     {'inflowqy': 364.667,\n",
              "      'lowlevel': 0.75,\n",
              "      'obsrdtmnt': '10-01 01시 30분',\n",
              "      'rf': '0.000',\n",
              "      'rsvwtqy': 296.836,\n",
              "      'rsvwtrt': 96.6,\n",
              "      'totdcwtrqy': 110.479},\n",
              "     {'inflowqy': 365.732,\n",
              "      'lowlevel': 0.76,\n",
              "      'obsrdtmnt': '10-01 01시 40분',\n",
              "      'rf': '0.000',\n",
              "      'rsvwtqy': 297.295,\n",
              "      'rsvwtrt': 96.8,\n",
              "      'totdcwtrqy': 112.006}]},\n",
              "   'numOfRows': 10,\n",
              "   'pageNo': 1,\n",
              "   'totalCount': 144},\n",
              "  'header': {'resultCode': '00', 'resultMsg': 'NORMAL SERVICE.'}}}"
            ]
          },
          "metadata": {},
          "execution_count": 4
        }
      ]
    },
    {
      "cell_type": "code",
      "source": [
        "print(type(r))"
      ],
      "metadata": {
        "id": "MvOUGDH9CuQB",
        "outputId": "866482be-8486-48ec-8ae7-5d251a0f6fd7",
        "colab": {
          "base_uri": "https://localhost:8080/"
        }
      },
      "execution_count": 5,
      "outputs": [
        {
          "output_type": "stream",
          "name": "stdout",
          "text": [
            "<class 'dict'>\n"
          ]
        }
      ]
    },
    {
      "cell_type": "code",
      "source": [
        "items = r['response']['body']['items']['item']\n",
        "items[0]"
      ],
      "metadata": {
        "id": "W8lA0-IzE55W",
        "outputId": "5e09cff4-7f11-4120-fc6c-6c55d2db649c",
        "colab": {
          "base_uri": "https://localhost:8080/"
        }
      },
      "execution_count": 6,
      "outputs": [
        {
          "output_type": "execute_result",
          "data": {
            "text/plain": [
              "{'inflowqy': 365.322,\n",
              " 'lowlevel': 0.75,\n",
              " 'obsrdtmnt': '10-01 00시 10분',\n",
              " 'rf': '0.000',\n",
              " 'rsvwtqy': 296.836,\n",
              " 'rsvwtrt': 96.6,\n",
              " 'totdcwtrqy': 108.717}"
            ]
          },
          "metadata": {},
          "execution_count": 6
        }
      ]
    },
    {
      "cell_type": "code",
      "source": [
        "inflowqy = [item['inflowqy'] for item in items]\n",
        "lowlevel = [item['lowlevel'] for item in items]\n",
        "obsrdtmnt = [item['obsrdtmnt'] for item in items]\n",
        "rf = [item['rf'] for item in items]\n",
        "rsvwtqy = [item['rsvwtqy'] for item in items]\n",
        "rsvwtrt = [item['rsvwtrt'] for item in items]\n",
        "totdcwtrqy = [item['totdcwtrqy'] for item in items]"
      ],
      "metadata": {
        "id": "pzsrKDbMFSsX"
      },
      "execution_count": 7,
      "outputs": []
    },
    {
      "cell_type": "code",
      "source": [
        "inflowqy = pd.Series(inflowqy)\n",
        "lowlevel = pd.Series(lowlevel)   \n",
        "obsrdtmnt = pd.Series(obsrdtmnt)\n",
        "rf = pd.Series(rf)\n",
        "rsvwtqy = pd.Series(rsvwtqy)\n",
        "rsvwtrt = pd.Series(rsvwtrt)\n",
        "totdcwtrqy = pd.Series(totdcwtrqy)\n",
        "\n",
        "df = pd.DataFrame({ 'inflowqy': inflowqy, 'lowlevel': lowlevel, 'obsrdtmnt': obsrdtmnt, 'rf': rf, 'rsvwtqy': rsvwtqy, 'rsvwtrt': rsvwtrt, 'totdcwtrqy': totdcwtrqy})"
      ],
      "metadata": {
        "id": "kX6NEFT3PHJx"
      },
      "execution_count": 8,
      "outputs": []
    },
    {
      "cell_type": "code",
      "source": [
        "df"
      ],
      "metadata": {
        "id": "BT1-K3xoQMso",
        "outputId": "701a6ec7-44e3-4a5b-e666-332a9dbaab62",
        "colab": {
          "base_uri": "https://localhost:8080/",
          "height": 363
        }
      },
      "execution_count": 9,
      "outputs": [
        {
          "output_type": "execute_result",
          "data": {
            "text/plain": [
              "   inflowqy  lowlevel      obsrdtmnt     rf  rsvwtqy  rsvwtrt totdcwtrqy\n",
              "0   365.322      0.75  10-01 00시 10분  0.000  296.836     96.6    108.717\n",
              "1    98.372      0.74  10-01 00시 20분  0.000  296.377     96.5    107.903\n",
              "2   363.366      0.74  10-01 00시 30분  0.000  296.377     96.5    109.145\n",
              "3   108.239      0.75  10-01 00시 40분  0.000  296.836     96.6    107.671\n",
              "4   108.726      0.74  10-01 00시 50분  0.000  296.377     96.5    109.361\n",
              "5   108.711      0.74  10-01 01시 00분  0.000  296.377     96.5    109.100\n",
              "6   109.313      0.75  10-01 01시 10분  0.000  296.836     96.6    109.478\n",
              "7   109.262      0.74  10-01 01시 20분  0.000  296.377     96.5    109.210\n",
              "8   364.667      0.75  10-01 01시 30분  0.000  296.836     96.6    110.479\n",
              "9   365.732      0.76  10-01 01시 40분  0.000  297.295     96.8    112.006"
            ],
            "text/html": [
              "\n",
              "  <div id=\"df-9e7adae7-2e58-49d3-a83a-0a3e72a0b574\">\n",
              "    <div class=\"colab-df-container\">\n",
              "      <div>\n",
              "<style scoped>\n",
              "    .dataframe tbody tr th:only-of-type {\n",
              "        vertical-align: middle;\n",
              "    }\n",
              "\n",
              "    .dataframe tbody tr th {\n",
              "        vertical-align: top;\n",
              "    }\n",
              "\n",
              "    .dataframe thead th {\n",
              "        text-align: right;\n",
              "    }\n",
              "</style>\n",
              "<table border=\"1\" class=\"dataframe\">\n",
              "  <thead>\n",
              "    <tr style=\"text-align: right;\">\n",
              "      <th></th>\n",
              "      <th>inflowqy</th>\n",
              "      <th>lowlevel</th>\n",
              "      <th>obsrdtmnt</th>\n",
              "      <th>rf</th>\n",
              "      <th>rsvwtqy</th>\n",
              "      <th>rsvwtrt</th>\n",
              "      <th>totdcwtrqy</th>\n",
              "    </tr>\n",
              "  </thead>\n",
              "  <tbody>\n",
              "    <tr>\n",
              "      <th>0</th>\n",
              "      <td>365.322</td>\n",
              "      <td>0.75</td>\n",
              "      <td>10-01 00시 10분</td>\n",
              "      <td>0.000</td>\n",
              "      <td>296.836</td>\n",
              "      <td>96.6</td>\n",
              "      <td>108.717</td>\n",
              "    </tr>\n",
              "    <tr>\n",
              "      <th>1</th>\n",
              "      <td>98.372</td>\n",
              "      <td>0.74</td>\n",
              "      <td>10-01 00시 20분</td>\n",
              "      <td>0.000</td>\n",
              "      <td>296.377</td>\n",
              "      <td>96.5</td>\n",
              "      <td>107.903</td>\n",
              "    </tr>\n",
              "    <tr>\n",
              "      <th>2</th>\n",
              "      <td>363.366</td>\n",
              "      <td>0.74</td>\n",
              "      <td>10-01 00시 30분</td>\n",
              "      <td>0.000</td>\n",
              "      <td>296.377</td>\n",
              "      <td>96.5</td>\n",
              "      <td>109.145</td>\n",
              "    </tr>\n",
              "    <tr>\n",
              "      <th>3</th>\n",
              "      <td>108.239</td>\n",
              "      <td>0.75</td>\n",
              "      <td>10-01 00시 40분</td>\n",
              "      <td>0.000</td>\n",
              "      <td>296.836</td>\n",
              "      <td>96.6</td>\n",
              "      <td>107.671</td>\n",
              "    </tr>\n",
              "    <tr>\n",
              "      <th>4</th>\n",
              "      <td>108.726</td>\n",
              "      <td>0.74</td>\n",
              "      <td>10-01 00시 50분</td>\n",
              "      <td>0.000</td>\n",
              "      <td>296.377</td>\n",
              "      <td>96.5</td>\n",
              "      <td>109.361</td>\n",
              "    </tr>\n",
              "    <tr>\n",
              "      <th>5</th>\n",
              "      <td>108.711</td>\n",
              "      <td>0.74</td>\n",
              "      <td>10-01 01시 00분</td>\n",
              "      <td>0.000</td>\n",
              "      <td>296.377</td>\n",
              "      <td>96.5</td>\n",
              "      <td>109.100</td>\n",
              "    </tr>\n",
              "    <tr>\n",
              "      <th>6</th>\n",
              "      <td>109.313</td>\n",
              "      <td>0.75</td>\n",
              "      <td>10-01 01시 10분</td>\n",
              "      <td>0.000</td>\n",
              "      <td>296.836</td>\n",
              "      <td>96.6</td>\n",
              "      <td>109.478</td>\n",
              "    </tr>\n",
              "    <tr>\n",
              "      <th>7</th>\n",
              "      <td>109.262</td>\n",
              "      <td>0.74</td>\n",
              "      <td>10-01 01시 20분</td>\n",
              "      <td>0.000</td>\n",
              "      <td>296.377</td>\n",
              "      <td>96.5</td>\n",
              "      <td>109.210</td>\n",
              "    </tr>\n",
              "    <tr>\n",
              "      <th>8</th>\n",
              "      <td>364.667</td>\n",
              "      <td>0.75</td>\n",
              "      <td>10-01 01시 30분</td>\n",
              "      <td>0.000</td>\n",
              "      <td>296.836</td>\n",
              "      <td>96.6</td>\n",
              "      <td>110.479</td>\n",
              "    </tr>\n",
              "    <tr>\n",
              "      <th>9</th>\n",
              "      <td>365.732</td>\n",
              "      <td>0.76</td>\n",
              "      <td>10-01 01시 40분</td>\n",
              "      <td>0.000</td>\n",
              "      <td>297.295</td>\n",
              "      <td>96.8</td>\n",
              "      <td>112.006</td>\n",
              "    </tr>\n",
              "  </tbody>\n",
              "</table>\n",
              "</div>\n",
              "      <button class=\"colab-df-convert\" onclick=\"convertToInteractive('df-9e7adae7-2e58-49d3-a83a-0a3e72a0b574')\"\n",
              "              title=\"Convert this dataframe to an interactive table.\"\n",
              "              style=\"display:none;\">\n",
              "        \n",
              "  <svg xmlns=\"http://www.w3.org/2000/svg\" height=\"24px\"viewBox=\"0 0 24 24\"\n",
              "       width=\"24px\">\n",
              "    <path d=\"M0 0h24v24H0V0z\" fill=\"none\"/>\n",
              "    <path d=\"M18.56 5.44l.94 2.06.94-2.06 2.06-.94-2.06-.94-.94-2.06-.94 2.06-2.06.94zm-11 1L8.5 8.5l.94-2.06 2.06-.94-2.06-.94L8.5 2.5l-.94 2.06-2.06.94zm10 10l.94 2.06.94-2.06 2.06-.94-2.06-.94-.94-2.06-.94 2.06-2.06.94z\"/><path d=\"M17.41 7.96l-1.37-1.37c-.4-.4-.92-.59-1.43-.59-.52 0-1.04.2-1.43.59L10.3 9.45l-7.72 7.72c-.78.78-.78 2.05 0 2.83L4 21.41c.39.39.9.59 1.41.59.51 0 1.02-.2 1.41-.59l7.78-7.78 2.81-2.81c.8-.78.8-2.07 0-2.86zM5.41 20L4 18.59l7.72-7.72 1.47 1.35L5.41 20z\"/>\n",
              "  </svg>\n",
              "      </button>\n",
              "      \n",
              "  <style>\n",
              "    .colab-df-container {\n",
              "      display:flex;\n",
              "      flex-wrap:wrap;\n",
              "      gap: 12px;\n",
              "    }\n",
              "\n",
              "    .colab-df-convert {\n",
              "      background-color: #E8F0FE;\n",
              "      border: none;\n",
              "      border-radius: 50%;\n",
              "      cursor: pointer;\n",
              "      display: none;\n",
              "      fill: #1967D2;\n",
              "      height: 32px;\n",
              "      padding: 0 0 0 0;\n",
              "      width: 32px;\n",
              "    }\n",
              "\n",
              "    .colab-df-convert:hover {\n",
              "      background-color: #E2EBFA;\n",
              "      box-shadow: 0px 1px 2px rgba(60, 64, 67, 0.3), 0px 1px 3px 1px rgba(60, 64, 67, 0.15);\n",
              "      fill: #174EA6;\n",
              "    }\n",
              "\n",
              "    [theme=dark] .colab-df-convert {\n",
              "      background-color: #3B4455;\n",
              "      fill: #D2E3FC;\n",
              "    }\n",
              "\n",
              "    [theme=dark] .colab-df-convert:hover {\n",
              "      background-color: #434B5C;\n",
              "      box-shadow: 0px 1px 3px 1px rgba(0, 0, 0, 0.15);\n",
              "      filter: drop-shadow(0px 1px 2px rgba(0, 0, 0, 0.3));\n",
              "      fill: #FFFFFF;\n",
              "    }\n",
              "  </style>\n",
              "\n",
              "      <script>\n",
              "        const buttonEl =\n",
              "          document.querySelector('#df-9e7adae7-2e58-49d3-a83a-0a3e72a0b574 button.colab-df-convert');\n",
              "        buttonEl.style.display =\n",
              "          google.colab.kernel.accessAllowed ? 'block' : 'none';\n",
              "\n",
              "        async function convertToInteractive(key) {\n",
              "          const element = document.querySelector('#df-9e7adae7-2e58-49d3-a83a-0a3e72a0b574');\n",
              "          const dataTable =\n",
              "            await google.colab.kernel.invokeFunction('convertToInteractive',\n",
              "                                                     [key], {});\n",
              "          if (!dataTable) return;\n",
              "\n",
              "          const docLinkHtml = 'Like what you see? Visit the ' +\n",
              "            '<a target=\"_blank\" href=https://colab.research.google.com/notebooks/data_table.ipynb>data table notebook</a>'\n",
              "            + ' to learn more about interactive tables.';\n",
              "          element.innerHTML = '';\n",
              "          dataTable['output_type'] = 'display_data';\n",
              "          await google.colab.output.renderOutput(dataTable, element);\n",
              "          const docLink = document.createElement('div');\n",
              "          docLink.innerHTML = docLinkHtml;\n",
              "          element.appendChild(docLink);\n",
              "        }\n",
              "      </script>\n",
              "    </div>\n",
              "  </div>\n",
              "  "
            ]
          },
          "metadata": {},
          "execution_count": 9
        }
      ]
    },
    {
      "cell_type": "code",
      "source": [
        "def test(stdt):\n",
        "  URL = ('http://apis.data.go.kr/B500001/dam/sluicePresentCondition/mntlist?damcode=2022510'\n",
        "  '&stdt='+stdt+\n",
        "  '&eddt=2018-10-01&numOfRows=10&_type=json&pageNo=1&serviceKey=NMGw4muV6MbntwL%2FwHZBwdmyvlANa9xsxYojjj7ky2ZGoLWA7mY4AGQOf0TO8Sa5i99spSVV1mdlrddI8woUkA%3D%3D')"
      ],
      "metadata": {
        "id": "VjYYHhRjbM4H"
      },
      "execution_count": 21,
      "outputs": []
    },
    {
      "cell_type": "code",
      "source": [
        "!pip install gradio"
      ],
      "metadata": {
        "id": "a3kLittVTQNJ",
        "outputId": "db6e012a-aec7-4d6b-edda-dd0117061434",
        "colab": {
          "base_uri": "https://localhost:8080/"
        }
      },
      "execution_count": 18,
      "outputs": [
        {
          "output_type": "stream",
          "name": "stdout",
          "text": [
            "Requirement already satisfied: gradio in /usr/local/lib/python3.7/dist-packages (2.9.1)\n",
            "Requirement already satisfied: requests in /usr/local/lib/python3.7/dist-packages (from gradio) (2.23.0)\n",
            "Requirement already satisfied: matplotlib in /usr/local/lib/python3.7/dist-packages (from gradio) (3.2.2)\n",
            "Requirement already satisfied: uvicorn in /usr/local/lib/python3.7/dist-packages (from gradio) (0.17.6)\n",
            "Requirement already satisfied: pillow in /usr/local/lib/python3.7/dist-packages (from gradio) (7.1.2)\n",
            "Requirement already satisfied: python-multipart in /usr/local/lib/python3.7/dist-packages (from gradio) (0.0.5)\n",
            "Requirement already satisfied: markdown-it-py[linkify,plugins] in /usr/local/lib/python3.7/dist-packages (from gradio) (2.0.1)\n",
            "Requirement already satisfied: pycryptodome in /usr/local/lib/python3.7/dist-packages (from gradio) (3.14.1)\n",
            "Requirement already satisfied: pydub in /usr/local/lib/python3.7/dist-packages (from gradio) (0.25.1)\n",
            "Requirement already satisfied: fastapi in /usr/local/lib/python3.7/dist-packages (from gradio) (0.75.1)\n",
            "Requirement already satisfied: aiohttp in /usr/local/lib/python3.7/dist-packages (from gradio) (3.8.1)\n",
            "Requirement already satisfied: pandas in /usr/local/lib/python3.7/dist-packages (from gradio) (1.3.5)\n",
            "Requirement already satisfied: ffmpy in /usr/local/lib/python3.7/dist-packages (from gradio) (0.3.0)\n",
            "Requirement already satisfied: numpy in /usr/local/lib/python3.7/dist-packages (from gradio) (1.21.5)\n",
            "Requirement already satisfied: orjson in /usr/local/lib/python3.7/dist-packages (from gradio) (3.6.7)\n",
            "Requirement already satisfied: analytics-python in /usr/local/lib/python3.7/dist-packages (from gradio) (1.4.0)\n",
            "Requirement already satisfied: paramiko in /usr/local/lib/python3.7/dist-packages (from gradio) (2.10.3)\n",
            "Requirement already satisfied: attrs>=17.3.0 in /usr/local/lib/python3.7/dist-packages (from aiohttp->gradio) (21.4.0)\n",
            "Requirement already satisfied: typing-extensions>=3.7.4 in /usr/local/lib/python3.7/dist-packages (from aiohttp->gradio) (3.10.0.2)\n",
            "Requirement already satisfied: frozenlist>=1.1.1 in /usr/local/lib/python3.7/dist-packages (from aiohttp->gradio) (1.3.0)\n",
            "Requirement already satisfied: multidict<7.0,>=4.5 in /usr/local/lib/python3.7/dist-packages (from aiohttp->gradio) (6.0.2)\n",
            "Requirement already satisfied: yarl<2.0,>=1.0 in /usr/local/lib/python3.7/dist-packages (from aiohttp->gradio) (1.7.2)\n",
            "Requirement already satisfied: asynctest==0.13.0 in /usr/local/lib/python3.7/dist-packages (from aiohttp->gradio) (0.13.0)\n",
            "Requirement already satisfied: charset-normalizer<3.0,>=2.0 in /usr/local/lib/python3.7/dist-packages (from aiohttp->gradio) (2.0.12)\n",
            "Requirement already satisfied: async-timeout<5.0,>=4.0.0a3 in /usr/local/lib/python3.7/dist-packages (from aiohttp->gradio) (4.0.2)\n",
            "Requirement already satisfied: aiosignal>=1.1.2 in /usr/local/lib/python3.7/dist-packages (from aiohttp->gradio) (1.2.0)\n",
            "Requirement already satisfied: idna>=2.0 in /usr/local/lib/python3.7/dist-packages (from yarl<2.0,>=1.0->aiohttp->gradio) (2.10)\n",
            "Requirement already satisfied: backoff==1.10.0 in /usr/local/lib/python3.7/dist-packages (from analytics-python->gradio) (1.10.0)\n",
            "Requirement already satisfied: python-dateutil>2.1 in /usr/local/lib/python3.7/dist-packages (from analytics-python->gradio) (2.8.2)\n",
            "Requirement already satisfied: six>=1.5 in /usr/local/lib/python3.7/dist-packages (from analytics-python->gradio) (1.15.0)\n",
            "Requirement already satisfied: monotonic>=1.5 in /usr/local/lib/python3.7/dist-packages (from analytics-python->gradio) (1.6)\n",
            "Requirement already satisfied: urllib3!=1.25.0,!=1.25.1,<1.26,>=1.21.1 in /usr/local/lib/python3.7/dist-packages (from requests->gradio) (1.24.3)\n",
            "Requirement already satisfied: chardet<4,>=3.0.2 in /usr/local/lib/python3.7/dist-packages (from requests->gradio) (3.0.4)\n",
            "Requirement already satisfied: certifi>=2017.4.17 in /usr/local/lib/python3.7/dist-packages (from requests->gradio) (2021.10.8)\n",
            "Requirement already satisfied: starlette==0.17.1 in /usr/local/lib/python3.7/dist-packages (from fastapi->gradio) (0.17.1)\n",
            "Requirement already satisfied: pydantic!=1.7,!=1.7.1,!=1.7.2,!=1.7.3,!=1.8,!=1.8.1,<2.0.0,>=1.6.2 in /usr/local/lib/python3.7/dist-packages (from fastapi->gradio) (1.9.0)\n",
            "Requirement already satisfied: anyio<4,>=3.0.0 in /usr/local/lib/python3.7/dist-packages (from starlette==0.17.1->fastapi->gradio) (3.5.0)\n",
            "Requirement already satisfied: sniffio>=1.1 in /usr/local/lib/python3.7/dist-packages (from anyio<4,>=3.0.0->starlette==0.17.1->fastapi->gradio) (1.2.0)\n",
            "Requirement already satisfied: mdurl~=0.1 in /usr/local/lib/python3.7/dist-packages (from markdown-it-py[linkify,plugins]->gradio) (0.1.0)\n",
            "Requirement already satisfied: linkify-it-py~=1.0 in /usr/local/lib/python3.7/dist-packages (from markdown-it-py[linkify,plugins]->gradio) (1.0.3)\n",
            "Requirement already satisfied: mdit-py-plugins in /usr/local/lib/python3.7/dist-packages (from markdown-it-py[linkify,plugins]->gradio) (0.3.0)\n",
            "Requirement already satisfied: uc-micro-py in /usr/local/lib/python3.7/dist-packages (from linkify-it-py~=1.0->markdown-it-py[linkify,plugins]->gradio) (1.0.1)\n",
            "Requirement already satisfied: pyparsing!=2.0.4,!=2.1.2,!=2.1.6,>=2.0.1 in /usr/local/lib/python3.7/dist-packages (from matplotlib->gradio) (3.0.7)\n",
            "Requirement already satisfied: cycler>=0.10 in /usr/local/lib/python3.7/dist-packages (from matplotlib->gradio) (0.11.0)\n",
            "Requirement already satisfied: kiwisolver>=1.0.1 in /usr/local/lib/python3.7/dist-packages (from matplotlib->gradio) (1.4.0)\n",
            "Requirement already satisfied: pytz>=2017.3 in /usr/local/lib/python3.7/dist-packages (from pandas->gradio) (2018.9)\n",
            "Requirement already satisfied: pynacl>=1.0.1 in /usr/local/lib/python3.7/dist-packages (from paramiko->gradio) (1.5.0)\n",
            "Requirement already satisfied: cryptography>=2.5 in /usr/local/lib/python3.7/dist-packages (from paramiko->gradio) (36.0.2)\n",
            "Requirement already satisfied: bcrypt>=3.1.3 in /usr/local/lib/python3.7/dist-packages (from paramiko->gradio) (3.2.0)\n",
            "Requirement already satisfied: cffi>=1.1 in /usr/local/lib/python3.7/dist-packages (from bcrypt>=3.1.3->paramiko->gradio) (1.15.0)\n",
            "Requirement already satisfied: pycparser in /usr/local/lib/python3.7/dist-packages (from cffi>=1.1->bcrypt>=3.1.3->paramiko->gradio) (2.21)\n",
            "Requirement already satisfied: click>=7.0 in /usr/local/lib/python3.7/dist-packages (from uvicorn->gradio) (7.1.2)\n",
            "Requirement already satisfied: h11>=0.8 in /usr/local/lib/python3.7/dist-packages (from uvicorn->gradio) (0.13.0)\n",
            "Requirement already satisfied: asgiref>=3.4.0 in /usr/local/lib/python3.7/dist-packages (from uvicorn->gradio) (3.5.0)\n"
          ]
        }
      ]
    },
    {
      "cell_type": "code",
      "source": [
        "iface = gr.Interface(test, gr.inputs.Dropdown(['2018-09-28','2018-09-29','2018-09-30','2018-09-31','2018-10-01']), outputs=['dataframe'])\n",
        "iface.launch(debug=True)"
      ],
      "metadata": {
        "id": "kxORJVPOnDSP",
        "outputId": "e1effca7-d9b1-42ee-f214-9ed916b9ce6a",
        "colab": {
          "base_uri": "https://localhost:8080/",
          "height": 665
        }
      },
      "execution_count": 33,
      "outputs": [
        {
          "output_type": "stream",
          "name": "stdout",
          "text": [
            "Colab notebook detected. This cell will run indefinitely so that you can see errors and logs. To turn off, set debug=False in launch().\n",
            "Running on public URL: https://22110.gradio.app\n",
            "\n",
            "This share link expires in 72 hours. For free permanent hosting, check out Spaces (https://huggingface.co/spaces)\n"
          ]
        },
        {
          "output_type": "display_data",
          "data": {
            "text/plain": [
              "<IPython.lib.display.IFrame at 0x7f4a64cf2ad0>"
            ],
            "text/html": [
              "\n",
              "        <iframe\n",
              "            width=\"900\"\n",
              "            height=\"500\"\n",
              "            src=\"https://22110.gradio.app\"\n",
              "            frameborder=\"0\"\n",
              "            allowfullscreen\n",
              "        ></iframe>\n",
              "        "
            ]
          },
          "metadata": {}
        },
        {
          "output_type": "stream",
          "name": "stdout",
          "text": [
            "Keyboard interruption in main thread... closing server.\n"
          ]
        },
        {
          "output_type": "execute_result",
          "data": {
            "text/plain": [
              "(<fastapi.applications.FastAPI at 0x7f4a6fc5f0d0>,\n",
              " 'http://127.0.0.1:7860/',\n",
              " 'https://22110.gradio.app')"
            ]
          },
          "metadata": {},
          "execution_count": 33
        }
      ]
    }
  ]
}