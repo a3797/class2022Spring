{
  "nbformat": 4,
  "nbformat_minor": 0,
  "metadata": {
    "kernelspec": {
      "display_name": "Python 3",
      "language": "python",
      "name": "python3"
    },
    "language_info": {
      "codemirror_mode": {
        "name": "ipython",
        "version": 3
      },
      "file_extension": ".py",
      "mimetype": "text/x-python",
      "name": "python",
      "nbconvert_exporter": "python",
      "pygments_lexer": "ipython3",
      "version": "3.7.1"
    },
    "colab": {
      "name": "numpy_matplotlib.ipynb",
      "provenance": [],
      "include_colab_link": true
    }
  },
  "cells": [
    {
      "cell_type": "markdown",
      "metadata": {
        "id": "view-in-github",
        "colab_type": "text"
      },
      "source": [
        "<a href=\"https://colab.research.google.com/github/a3797/class2022Spring/blob/main/numpy_matplotlib.ipynb\" target=\"_parent\"><img src=\"https://colab.research.google.com/assets/colab-badge.svg\" alt=\"Open In Colab\"/></a>"
      ]
    },
    {
      "cell_type": "markdown",
      "metadata": {
        "id": "JcCdLoe_4bY7"
      },
      "source": [
        "### create nd arrays (≈matrices)"
      ]
    },
    {
      "cell_type": "code",
      "metadata": {
        "id": "5ap7xyofShBB"
      },
      "source": [
        "import numpy as np"
      ],
      "execution_count": 2,
      "outputs": []
    },
    {
      "cell_type": "code",
      "metadata": {
        "id": "2rqpSPZCShBC",
        "colab": {
          "base_uri": "https://localhost:8080/"
        },
        "outputId": "9d36fdcf-58bd-4a76-be93-811727901e69"
      },
      "source": [
        "x = np.array([1,2,3])\n",
        "print(x)\n",
        "print(type(x))\n",
        "print(x.shape)"
      ],
      "execution_count": 3,
      "outputs": [
        {
          "output_type": "stream",
          "name": "stdout",
          "text": [
            "[1 2 3]\n",
            "<class 'numpy.ndarray'>\n",
            "(3,)\n"
          ]
        }
      ]
    },
    {
      "cell_type": "markdown",
      "source": [
        "list를 계산하기위해서는 array로 바꾸어주어야함."
      ],
      "metadata": {
        "id": "tHwZGUOp7JaH"
      }
    },
    {
      "cell_type": "code",
      "metadata": {
        "id": "EjC88C75ShBC",
        "colab": {
          "base_uri": "https://localhost:8080/"
        },
        "outputId": "04d23693-8cd6-4183-c831-bad825ef371f"
      },
      "source": [
        "x = np.arange(0,10,2)\n",
        "print(x)\n",
        "print(type(x))\n",
        "print(x.shape)"
      ],
      "execution_count": 6,
      "outputs": [
        {
          "output_type": "stream",
          "name": "stdout",
          "text": [
            "[0 2 4 6 8]\n",
            "<class 'numpy.ndarray'>\n",
            "(5,)\n"
          ]
        }
      ]
    },
    {
      "cell_type": "markdown",
      "source": [
        "0부터 10까지, 2씩 increase (10은 제외)"
      ],
      "metadata": {
        "id": "Lt1GlnPI7cL9"
      }
    },
    {
      "cell_type": "code",
      "metadata": {
        "id": "-MwkCEjTShBC",
        "colab": {
          "base_uri": "https://localhost:8080/"
        },
        "outputId": "c2ce06c5-35d0-489e-ba24-ff935c742ea5"
      },
      "source": [
        "x = np.linspace(0,12,6)\n",
        "print(x)\n",
        "print(type(x))\n",
        "print(x.shape)"
      ],
      "execution_count": 5,
      "outputs": [
        {
          "output_type": "stream",
          "name": "stdout",
          "text": [
            "[ 0.   2.4  4.8  7.2  9.6 12. ]\n",
            "<class 'numpy.ndarray'>\n",
            "(6,)\n"
          ]
        }
      ]
    },
    {
      "cell_type": "markdown",
      "source": [
        "0부터 12까지 등간격으로 6개의 숫자를 만들어라"
      ],
      "metadata": {
        "id": "8uR37hjS7wOT"
      }
    },
    {
      "cell_type": "code",
      "metadata": {
        "id": "tjk79SQ27fNv",
        "colab": {
          "base_uri": "https://localhost:8080/"
        },
        "outputId": "3ff3368b-6bb1-4664-933e-8504613780b1"
      },
      "source": [
        "x = np.array([[1,2,3], [4,5,6]])\n",
        "print(x)\n",
        "print(type(x))\n",
        "print(x.shape)"
      ],
      "execution_count": null,
      "outputs": [
        {
          "output_type": "stream",
          "name": "stdout",
          "text": [
            "[[1 2 3]\n",
            " [4 5 6]]\n",
            "<class 'numpy.ndarray'>\n",
            "(2, 3)\n"
          ]
        }
      ]
    },
    {
      "cell_type": "code",
      "metadata": {
        "id": "C1ogg6iZ7yir",
        "colab": {
          "base_uri": "https://localhost:8080/"
        },
        "outputId": "3a5cb13a-7a9f-4a68-c5c9-2b2471589f2d"
      },
      "source": [
        "x = np.array([[[1,2,3],[4,5,6]], [[7,8,9], [10,11,12]]])\n",
        "print(x)\n",
        "print(type(x))\n",
        "print(x.shape)"
      ],
      "execution_count": 7,
      "outputs": [
        {
          "output_type": "stream",
          "name": "stdout",
          "text": [
            "[[[ 1  2  3]\n",
            "  [ 4  5  6]]\n",
            "\n",
            " [[ 7  8  9]\n",
            "  [10 11 12]]]\n",
            "<class 'numpy.ndarray'>\n",
            "(2, 2, 3)\n"
          ]
        }
      ]
    },
    {
      "cell_type": "code",
      "source": [
        "x = np.array([[[1,2,3]], [[7,8,9]], [[10,11,12]]])\n",
        "print(x)\n",
        "print(type(x))\n",
        "print(x.shape)"
      ],
      "metadata": {
        "colab": {
          "base_uri": "https://localhost:8080/"
        },
        "id": "Scu4wOIBjTJm",
        "outputId": "0082c5bc-cadb-4997-e96e-c8b50022b9f6"
      },
      "execution_count": 11,
      "outputs": [
        {
          "output_type": "stream",
          "name": "stdout",
          "text": [
            "[[[ 1  2  3]]\n",
            "\n",
            " [[ 7  8  9]]\n",
            "\n",
            " [[10 11 12]]]\n",
            "<class 'numpy.ndarray'>\n",
            "(3, 1, 3)\n"
          ]
        }
      ]
    },
    {
      "cell_type": "code",
      "source": [
        "x = np.array([[[1,2,3],[4,5,6], [7,8,9]], [[7,8,9], [10,11,12], [13,14,15]]])\n",
        "print(x)\n",
        "print(type(x))\n",
        "print(x.shape)"
      ],
      "metadata": {
        "colab": {
          "base_uri": "https://localhost:8080/"
        },
        "id": "fWw-zYzTi9SU",
        "outputId": "88173a78-b668-4d3f-9a16-e751f1aae95c"
      },
      "execution_count": 9,
      "outputs": [
        {
          "output_type": "stream",
          "name": "stdout",
          "text": [
            "[[[ 1  2  3]\n",
            "  [ 4  5  6]\n",
            "  [ 7  8  9]]\n",
            "\n",
            " [[ 7  8  9]\n",
            "  [10 11 12]\n",
            "  [13 14 15]]]\n",
            "<class 'numpy.ndarray'>\n",
            "(2, 3, 3)\n"
          ]
        }
      ]
    },
    {
      "cell_type": "code",
      "metadata": {
        "id": "efgeNHtD8ZlT",
        "colab": {
          "base_uri": "https://localhost:8080/"
        },
        "outputId": "047fb9dd-8c90-4dbf-9f12-35123bed1052"
      },
      "source": [
        "x = np.ones([2, 2, 3])\n",
        "print(x)\n",
        "print(type(x))\n",
        "print(x.shape)"
      ],
      "execution_count": null,
      "outputs": [
        {
          "output_type": "stream",
          "name": "stdout",
          "text": [
            "[[[1. 1. 1.]\n",
            "  [1. 1. 1.]]\n",
            "\n",
            " [[1. 1. 1.]\n",
            "  [1. 1. 1.]]]\n",
            "<class 'numpy.ndarray'>\n",
            "(2, 2, 3)\n"
          ]
        }
      ]
    },
    {
      "cell_type": "code",
      "metadata": {
        "id": "b_F-ccY08zzl",
        "colab": {
          "base_uri": "https://localhost:8080/"
        },
        "outputId": "d56dd759-bbd1-48d5-d208-4a2084fe1cec"
      },
      "source": [
        "x = np.zeros([2, 2, 3])\n",
        "print(x)\n",
        "print(type(x))\n",
        "print(x.shape)\n",
        "x.reshape(3,2,2)"
      ],
      "execution_count": null,
      "outputs": [
        {
          "output_type": "stream",
          "name": "stdout",
          "text": [
            "[[[0. 0. 0.]\n",
            "  [0. 0. 0.]]\n",
            "\n",
            " [[0. 0. 0.]\n",
            "  [0. 0. 0.]]]\n",
            "<class 'numpy.ndarray'>\n",
            "(2, 2, 3)\n"
          ]
        },
        {
          "output_type": "execute_result",
          "data": {
            "text/plain": [
              "array([[[0., 0.],\n",
              "        [0., 0.]],\n",
              "\n",
              "       [[0., 0.],\n",
              "        [0., 0.]],\n",
              "\n",
              "       [[0., 0.],\n",
              "        [0., 0.]]])"
            ]
          },
          "metadata": {},
          "execution_count": 27
        }
      ]
    },
    {
      "cell_type": "markdown",
      "metadata": {
        "id": "0hQuDJ5g9gpE"
      },
      "source": [
        "### create random numbers"
      ]
    },
    {
      "cell_type": "code",
      "source": [
        "np.random.normal(0, 1, [2,3,4])"
      ],
      "metadata": {
        "id": "pCVnElBgan70",
        "outputId": "b06de733-6380-4b28-870b-61ddb453ad8a",
        "colab": {
          "base_uri": "https://localhost:8080/"
        }
      },
      "execution_count": null,
      "outputs": [
        {
          "output_type": "execute_result",
          "data": {
            "text/plain": [
              "array([[[ 0.28610219, -0.7264868 , -0.50719279,  1.04473795],\n",
              "        [-2.6269445 ,  0.80373735, -3.94639222, -0.11259909],\n",
              "        [-0.271832  , -1.03545502, -0.11481238, -0.80041025]],\n",
              "\n",
              "       [[-0.94959226,  1.11390672, -0.47629241, -1.43499953],\n",
              "        [ 1.01427831,  0.93052177, -0.51619177,  1.99354224],\n",
              "        [-0.68265827,  0.97492243, -0.33173391,  0.0293543 ]]])"
            ]
          },
          "metadata": {},
          "execution_count": 5
        }
      ]
    },
    {
      "cell_type": "markdown",
      "source": [
        "(mean, sd, size)"
      ],
      "metadata": {
        "id": "LWOBxVWX_yNI"
      }
    },
    {
      "cell_type": "code",
      "metadata": {
        "id": "QRatmkx79otL"
      },
      "source": [
        "import matplotlib.pyplot as plt"
      ],
      "execution_count": null,
      "outputs": []
    },
    {
      "cell_type": "code",
      "metadata": {
        "id": "z1oOAB6dShBD",
        "colab": {
          "base_uri": "https://localhost:8080/",
          "height": 667
        },
        "outputId": "bbc74692-842f-479e-ab6c-a7fd7e477086"
      },
      "source": [
        "x = np.random.normal(0, 1, 100)\n",
        "print(x)\n",
        "plt.hist(x, bins=10)"
      ],
      "execution_count": null,
      "outputs": [
        {
          "output_type": "stream",
          "name": "stdout",
          "text": [
            "[ 1.51302392  0.3280988  -0.36689728  0.51600179  0.0221009  -0.84817461\n",
            " -0.31027955  1.03425319  1.7544976  -0.47081461 -0.7898446   0.57940795\n",
            "  0.73664719 -0.02311313  0.24411404  0.46969752 -0.84006796 -1.1783192\n",
            "  0.73892475  1.07390135  1.28872852  2.34200764 -0.19794372 -1.39852672\n",
            "  0.10032766  0.41279294  0.72464973 -0.60097497  0.30037163  0.55767694\n",
            "  0.32565647 -0.12243516  1.45721448 -1.50310396  0.43641636  1.07070082\n",
            " -0.09004088 -0.28515166  0.10666348  1.52216673 -0.15462172  0.79053084\n",
            "  0.36650384  0.08421107  0.60552097  0.618018    1.23862335  0.90225655\n",
            "  0.1169984   2.67728278 -1.61718162  0.71559304  0.0697801   1.47639543\n",
            " -0.88383138  1.48856544 -0.48606975  0.67510415  0.69938304 -0.2601253\n",
            " -0.85837192 -0.65960801  0.80006286  1.01330467  0.07411055  0.84160648\n",
            "  1.83278589 -0.74292712 -2.3948457  -0.06962482  1.0665995   2.48104798\n",
            "  0.24683033 -0.39406934 -0.31337565  0.02858167 -0.75784451  0.00270284\n",
            "  0.18769591 -0.32906873 -0.64107208 -1.04221111  0.18831433  0.70217958\n",
            " -0.74671784  2.13417515 -1.38337503  1.35557036 -0.00826887  0.18056059\n",
            " -0.65774595  1.37484754  2.47491093 -0.34202908  0.6201662   0.05674071\n",
            "  2.53867481 -0.74935849  0.97790139  0.06015424]\n"
          ]
        },
        {
          "output_type": "execute_result",
          "data": {
            "text/plain": [
              "(array([ 1.,  4.,  3., 16., 24., 18., 17.,  9.,  3.,  5.]),\n",
              " array([-2.3948457 , -1.88763285, -1.38042   , -0.87320716, -0.36599431,\n",
              "         0.14121854,  0.64843139,  1.15564423,  1.66285708,  2.17006993,\n",
              "         2.67728278]),\n",
              " <a list of 10 Patch objects>)"
            ]
          },
          "metadata": {},
          "execution_count": 9
        },
        {
          "output_type": "display_data",
          "data": {
            "text/plain": [
              "<Figure size 432x288 with 1 Axes>"
            ],
            "image/png": "[encoded data removed]"
          },
          "metadata": {
            "needs_background": "light"
          }
        }
      ]
    },
    {
      "cell_type": "markdown",
      "metadata": {
        "id": "G0exvwBbShBE"
      },
      "source": [
        "### generate a sine curve"
      ]
    },
    {
      "cell_type": "code",
      "metadata": {
        "id": "HgQmRXzMShBE",
        "colab": {
          "base_uri": "https://localhost:8080/",
          "height": 165
        },
        "outputId": "11b028c0-e143-4ea1-bb90-201804ec61d2"
      },
      "source": [
        "plt.figure()\n",
        "\n",
        "theta1 = np.linspace(0, 2*np.pi, 100) #0에서 360도 radian\n",
        "s1 = np.sin(theta1)\n",
        "theta2 = np.linspace(0, 2*np.pi, 100) + np.pi/2  #90도에서 450도\n",
        "s2 = np.sin(theta2)\n",
        "\n",
        "plt.subplot(2, 2, 1) # (rows, columns, panel number)\n",
        "plt.plot(theta1, s1, '.')\n",
        "plt.subplot(2, 2, 2) # (rows, columns, panel number)\n",
        "plt.plot(theta2, s2, '.')"
      ],
      "execution_count": null,
      "outputs": [
        {
          "output_type": "execute_result",
          "data": {
            "text/plain": [
              "[<matplotlib.lines.Line2D at 0x7faa2a211ed0>]"
            ]
          },
          "metadata": {},
          "execution_count": 15
        },
        {
          "output_type": "display_data",
          "data": {
            "text/plain": [
              "<Figure size 432x288 with 2 Axes>"
            ],
            "image/png": "[encoded data removed]"
          },
          "metadata": {
            "needs_background": "light"
          }
        }
      ]
    },
    {
      "cell_type": "code",
      "metadata": {
        "id": "TuH489v9BvQ7",
        "colab": {
          "base_uri": "https://localhost:8080/"
        },
        "outputId": "80f021a2-50ec-4eb5-aed7-4faf9a306496"
      },
      "source": [
        "np.corrcoef(s1,s2)"
      ],
      "execution_count": null,
      "outputs": [
        {
          "output_type": "execute_result",
          "data": {
            "text/plain": [
              "array([[1.00000000e+00, 2.41915449e-17],\n",
              "       [2.41915449e-17, 1.00000000e+00]])"
            ]
          },
          "metadata": {},
          "execution_count": 11
        }
      ]
    }
  ]
}